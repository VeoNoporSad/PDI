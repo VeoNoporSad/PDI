{
 "cells": [
  {
   "cell_type": "code",
   "execution_count": null,
   "metadata": {},
   "outputs": [],
   "source": [
    "import cv2\n",
    "import matplotlib.pyplot as plt\n",
    "\n",
    "# Cargar la imagen en escala de grises\n",
    "img = cv2.imread('Pinguino.jpeg', cv2.IMREAD_GRAYSCALE)\n",
    "\n",
    "# Aplicar suavizado gaussiano\n",
    "blurred_img = cv2.GaussianBlur(img, (5, 5), 0)\n",
    "\n",
    "# Aplicar el operador Laplaciano a la imagen suavizada\n",
    "laplacian = cv2.Laplacian(blurred_img, cv2.CV_64F)\n",
    "laplacian_abs = cv2.convertScaleAbs(laplacian)\n",
    "\n",
    "# Crear la figura y los subplots\n",
    "fig, axs = plt.subplots(1, 2, figsize=(10, 5))\n",
    "\n",
    "# Mostrar la imagen original\n",
    "axs[0].imshow(img, cmap='gray')\n",
    "axs[0].set_title('Imagen original')\n",
    "axs[0].axis('off')\n",
    "\n",
    "# Mostrar la imagen con LoG aplicado\n",
    "axs[1].imshow(laplacian_abs, cmap='gray')\n",
    "axs[1].set_title('Laplaciano del Gaussiano')\n",
    "axs[1].axis('off')\n",
    "\n",
    "# Ajustar el espacio y mostrar la figura\n",
    "plt.tight_layout()\n",
    "plt.show()"
   ]
  },
  {
   "cell_type": "code",
   "execution_count": null,
   "metadata": {},
   "outputs": [],
   "source": [
    "import cv2\n",
    "import matplotlib.pyplot as plt\n",
    "\n",
    "# Cargar la imagen en escala de grises\n",
    "img = cv2.imread('Pinguino.jpeg', cv2.IMREAD_GRAYSCALE)\n",
    "\n",
    "# Aplicar el operador Laplaciano\n",
    "laplacian = cv2.Laplacian(img, cv2.CV_64F)\n",
    "laplacian_abs = cv2.convertScaleAbs(laplacian)\n",
    "\n",
    "# Crear la figura y los subplots\n",
    "fig, axs = plt.subplots(1, 2, figsize=(10, 5))\n",
    "\n",
    "# Mostrar la imagen original\n",
    "axs[0].imshow(img, cmap='gray')\n",
    "axs[0].set_title('Imagen original')\n",
    "axs[0].axis('off')\n",
    "\n",
    "# Mostrar la imagen con el Laplaciano aplicado\n",
    "axs[1].imshow(laplacian_abs, cmap='gray')\n",
    "axs[1].set_title('Laplaciano')\n",
    "axs[1].axis('off')\n",
    "\n",
    "# Ajustar el espacio entre las imágenes y mostrar\n",
    "plt.tight_layout()\n",
    "plt.show()"
   ]
  }
 ],
 "metadata": {
  "kernelspec": {
   "display_name": "NuevoEntorno",
   "language": "python",
   "name": "python3"
  },
  "language_info": {
   "name": "python",
   "version": "3.12.2"
  }
 },
 "nbformat": 4,
 "nbformat_minor": 2
}
