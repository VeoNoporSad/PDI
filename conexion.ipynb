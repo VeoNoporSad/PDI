{
 "cells": [
  {
   "cell_type": "code",
   "execution_count": 3,
   "metadata": {},
   "outputs": [
    {
     "name": "stdout",
     "output_type": "stream",
     "text": [
      "Conexión exitosa\n",
      "Persona Italo Navia insertada correctamente.\n",
      "Conexión exitosa\n",
      "Error al insertar persona: ('23000', \"[23000] [Microsoft][ODBC Driver 17 for SQL Server][SQL Server]Violation of UNIQUE KEY constraint 'UQ__Personas__D6F931E52367094B'. Cannot insert duplicate key in object 'dbo.Personas'. The duplicate key value is (2323). (2627) (SQLExecDirectW); [23000] [Microsoft][ODBC Driver 17 for SQL Server][SQL Server]The statement has been terminated. (3621)\")\n",
      "Conexión exitosa\n",
      "Error al insertar persona: ('23000', \"[23000] [Microsoft][ODBC Driver 17 for SQL Server][SQL Server]Violation of UNIQUE KEY constraint 'UQ__Personas__D6F931E52367094B'. Cannot insert duplicate key in object 'dbo.Personas'. The duplicate key value is (2323). (2627) (SQLExecDirectW); [23000] [Microsoft][ODBC Driver 17 for SQL Server][SQL Server]The statement has been terminated. (3621)\")\n",
      "Conexión exitosa\n",
      "Persona Italo Navia insertada correctamente.\n",
      "Conexión exitosa\n",
      "Persona Italo Navia insertada correctamente.\n",
      "Conexión exitosa\n",
      "Error al insertar persona: ('23000', \"[23000] [Microsoft][ODBC Driver 17 for SQL Server][SQL Server]Violation of UNIQUE KEY constraint 'UQ__Personas__D6F931E52367094B'. Cannot insert duplicate key in object 'dbo.Personas'. The duplicate key value is (23232222). (2627) (SQLExecDirectW); [23000] [Microsoft][ODBC Driver 17 for SQL Server][SQL Server]The statement has been terminated. (3621)\")\n",
      "Conexión exitosa\n",
      "Error al insertar persona: ('23000', \"[23000] [Microsoft][ODBC Driver 17 for SQL Server][SQL Server]Violation of UNIQUE KEY constraint 'UQ__Personas__D6F931E52367094B'. Cannot insert duplicate key in object 'dbo.Personas'. The duplicate key value is (23232222). (2627) (SQLExecDirectW); [23000] [Microsoft][ODBC Driver 17 for SQL Server][SQL Server]The statement has been terminated. (3621)\")\n",
      "Conexión exitosa\n",
      "Error al insertar persona: ('23000', \"[23000] [Microsoft][ODBC Driver 17 for SQL Server][SQL Server]Violation of UNIQUE KEY constraint 'UQ__Personas__D6F931E52367094B'. Cannot insert duplicate key in object 'dbo.Personas'. The duplicate key value is (23232222). (2627) (SQLExecDirectW); [23000] [Microsoft][ODBC Driver 17 for SQL Server][SQL Server]The statement has been terminated. (3621)\")\n"
     ]
    },
    {
     "ename": "KeyboardInterrupt",
     "evalue": "",
     "output_type": "error",
     "traceback": [
      "\u001b[1;31m---------------------------------------------------------------------------\u001b[0m",
      "\u001b[1;31mKeyboardInterrupt\u001b[0m                         Traceback (most recent call last)",
      "Cell \u001b[1;32mIn[3], line 67\u001b[0m\n\u001b[0;32m     64\u001b[0m boton_enviar \u001b[38;5;241m=\u001b[39m tk\u001b[38;5;241m.\u001b[39mButton(ventana, text\u001b[38;5;241m=\u001b[39m\u001b[38;5;124m\"\u001b[39m\u001b[38;5;124mRegistrar\u001b[39m\u001b[38;5;124m\"\u001b[39m, command\u001b[38;5;241m=\u001b[39menviar_datos)\n\u001b[0;32m     65\u001b[0m boton_enviar\u001b[38;5;241m.\u001b[39mgrid(row\u001b[38;5;241m=\u001b[39m\u001b[38;5;241m4\u001b[39m, column\u001b[38;5;241m=\u001b[39m\u001b[38;5;241m1\u001b[39m, padx\u001b[38;5;241m=\u001b[39m\u001b[38;5;241m5\u001b[39m, pady\u001b[38;5;241m=\u001b[39m\u001b[38;5;241m5\u001b[39m)\n\u001b[1;32m---> 67\u001b[0m \u001b[43mventana\u001b[49m\u001b[38;5;241;43m.\u001b[39;49m\u001b[43mmainloop\u001b[49m\u001b[43m(\u001b[49m\u001b[43m)\u001b[49m\n",
      "File \u001b[1;32mc:\\Users\\Italo\\.conda\\envs\\NuevoEntorno\\Lib\\tkinter\\__init__.py:1504\u001b[0m, in \u001b[0;36mMisc.mainloop\u001b[1;34m(self, n)\u001b[0m\n\u001b[0;32m   1502\u001b[0m \u001b[38;5;28;01mdef\u001b[39;00m \u001b[38;5;21mmainloop\u001b[39m(\u001b[38;5;28mself\u001b[39m, n\u001b[38;5;241m=\u001b[39m\u001b[38;5;241m0\u001b[39m):\n\u001b[0;32m   1503\u001b[0m \u001b[38;5;250m    \u001b[39m\u001b[38;5;124;03m\"\"\"Call the mainloop of Tk.\"\"\"\u001b[39;00m\n\u001b[1;32m-> 1504\u001b[0m     \u001b[38;5;28;43mself\u001b[39;49m\u001b[38;5;241;43m.\u001b[39;49m\u001b[43mtk\u001b[49m\u001b[38;5;241;43m.\u001b[39;49m\u001b[43mmainloop\u001b[49m\u001b[43m(\u001b[49m\u001b[43mn\u001b[49m\u001b[43m)\u001b[49m\n",
      "\u001b[1;31mKeyboardInterrupt\u001b[0m: "
     ]
    },
    {
     "ename": "",
     "evalue": "",
     "output_type": "error",
     "traceback": [
      "\u001b[1;31mThe Kernel crashed while executing code in the current cell or a previous cell. \n",
      "\u001b[1;31mPlease review the code in the cell(s) to identify a possible cause of the failure. \n",
      "\u001b[1;31mClick <a href='https://aka.ms/vscodeJupyterKernelCrash'>here</a> for more info. \n",
      "\u001b[1;31mView Jupyter <a href='command:jupyter.viewOutput'>log</a> for further details."
     ]
    }
   ],
   "source": [
    "import tkinter as tk\n",
    "from tkinter import ttk\n",
    "import pyodbc\n",
    "    \n",
    "def conectar_a_sql_server(server, bd, user, password):\n",
    "    try:\n",
    "        conn_str = f\"DRIVER={{ODBC Driver 17 for SQL Server}};SERVER={server};DATABASE={bd};UID={user};PWD={password}\"\n",
    "        conexion = pyodbc.connect(conn_str)\n",
    "        print(\"Conexión exitosa\")\n",
    "        return conexion\n",
    "    except pyodbc.Error as e:\n",
    "        print(f\"Error al intentar conectarse: {e}\")\n",
    "        return None\n",
    "\n",
    "def insertar_usuario(conexion, nombre, apellido, identificacion, tipo_persona):\n",
    "    try:\n",
    "        cursor = conexion.cursor()\n",
    "        query = \"INSERT INTO Personas (Nombre, Apellido, Identificacion, TipoPersona) VALUES (?, ?, ?, ?)\"\n",
    "        cursor.execute(query, (nombre, apellido, identificacion, tipo_persona))\n",
    "        conexion.commit()\n",
    "        print(f\"Persona {nombre} {apellido} insertada correctamente.\")\n",
    "    except Exception as e:\n",
    "        print(f\"Error al insertar persona: {e}\")\n",
    "\n",
    "def enviar_datos():\n",
    "    nombre = entry_nombre.get()\n",
    "    apellido = entry_apellido.get()\n",
    "    identificacion = entry_identificacion.get()\n",
    "    tipo_persona = combo_tipo_persona.get()\n",
    "    \n",
    "    conexion = conectar_a_sql_server(server, bd, user, password)\n",
    "    if conexion:\n",
    "        insertar_usuario(conexion, nombre, apellido, identificacion, tipo_persona)\n",
    "        conexion.close()\n",
    "\n",
    "server = \"Italo-Navia\\\\ITALO\" \n",
    "bd = \"BDProyectoPDI\" \n",
    "user =\"PDI\"\n",
    "password = \"123456\"\n",
    "\n",
    "ventana = tk.Tk()\n",
    "ventana.title(\"Registro de Usuarios\")\n",
    "\n",
    "label_nombre = tk.Label(ventana, text=\"Nombre:\")\n",
    "label_nombre.grid(row=0, column=0, padx=5, pady=5)\n",
    "entry_nombre = tk.Entry(ventana)\n",
    "entry_nombre.grid(row=0, column=1, padx=5, pady=5)\n",
    "\n",
    "label_apellido = tk.Label(ventana, text=\"Apellido:\")\n",
    "label_apellido.grid(row=1, column=0, padx=5, pady=5)\n",
    "entry_apellido = tk.Entry(ventana)\n",
    "entry_apellido.grid(row=1, column=1, padx=5, pady=5)\n",
    "\n",
    "label_identificacion = tk.Label(ventana, text=\"Identificación:\")\n",
    "label_identificacion.grid(row=2, column=0, padx=5, pady=5)\n",
    "entry_identificacion = tk.Entry(ventana)\n",
    "entry_identificacion.grid(row=2, column=1, padx=5, pady=5)\n",
    "\n",
    "label_tipo_persona = tk.Label(ventana, text=\"Tipo de Persona:\")\n",
    "label_tipo_persona.grid(row=3, column=0, padx=5, pady=5)\n",
    "combo_tipo_persona = ttk.Combobox(ventana, values=[\"Universitario\", \"Personal\", \"Administrativo\",\"Docente\"])\n",
    "combo_tipo_persona.grid(row=3, column=1, padx=5, pady=5)\n",
    "\n",
    "boton_enviar = tk.Button(ventana, text=\"Registrar\", command=enviar_datos)\n",
    "boton_enviar.grid(row=4, column=1, padx=5, pady=5)\n",
    "\n",
    "ventana.mainloop()"
   ]
  }
 ],
 "metadata": {
  "kernelspec": {
   "display_name": "NuevoEntorno",
   "language": "python",
   "name": "python3"
  },
  "language_info": {
   "codemirror_mode": {
    "name": "ipython",
    "version": 3
   },
   "file_extension": ".py",
   "mimetype": "text/x-python",
   "name": "python",
   "nbconvert_exporter": "python",
   "pygments_lexer": "ipython3",
   "version": "3.12.2"
  }
 },
 "nbformat": 4,
 "nbformat_minor": 2
}
